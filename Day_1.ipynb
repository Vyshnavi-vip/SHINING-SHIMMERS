{
  "nbformat": 4,
  "nbformat_minor": 0,
  "metadata": {
    "colab": {
      "name": "Day 1.ipynb",
      "provenance": [],
      "collapsed_sections": []
    },
    "kernelspec": {
      "name": "python3",
      "display_name": "Python 3"
    }
  },
  "cells": [
    {
      "cell_type": "markdown",
      "source": [
        ""
      ],
      "metadata": {
        "id": "XF8syMgCRbMT"
      }
    },
    {
      "cell_type": "markdown",
      "source": [
        ""
      ],
      "metadata": {
        "id": "RO7AA0Ib826F"
      }
    },
    {
      "cell_type": "code",
      "source": [
        "from google.colab import drive\n",
        "drive.mount('/content/drive')"
      ],
      "metadata": {
        "id": "X1EcIka4nTN4",
        "outputId": "80090e86-b597-4624-9764-2942531f23ca",
        "colab": {
          "base_uri": "https://localhost:8080/"
        }
      },
      "execution_count": null,
      "outputs": [
        {
          "output_type": "stream",
          "name": "stdout",
          "text": [
            "Mounted at /content/drive\n"
          ]
        }
      ]
    },
    {
      "cell_type": "code",
      "source": [
        "import librosa\n",
        "import soundfile\n",
        "import os, glob\n",
        "import numpy as np\n",
        "from sklearn.model_selection import train_test_split"
      ],
      "metadata": {
        "id": "3bZErBGgLpHl"
      },
      "execution_count": null,
      "outputs": []
    },
    {
      "cell_type": "code",
      "source": [
        "def extract_feature(file_name, mfcc, chroma, mel):\n",
        "    with soundfile.SoundFile(file_name) as sound_file:\n",
        "        X = sound_file.read(dtype=\"float32\")\n",
        "        sample_rate=sound_file.samplerate\n",
        "        if chroma:\n",
        "            stft=np.abs(librosa.stft(X))\n",
        "        result=np.array([])\n",
        "        if mfcc:\n",
        "            mfccs=np.mean(librosa.feature.mfcc(y=X, sr=sample_rate,\n",
        "n_mfcc=40).T, axis=0)\n",
        "            result=np.hstack((result, mfccs))\n",
        "            if chroma:\n",
        "                chroma=np.mean(librosa.feature.chroma_stft(S=stft,\n",
        "sr=sample_rate).T,axis=0)\n",
        "                result=np.hstack((result, chroma))\n",
        "            if mel:\n",
        "                mel=np.mean(librosa.feature.melspectrogram(X,\n",
        "sr=sample_rate).T,axis=0)\n",
        "                result=np.hstack((result, mel))\n",
        "    return result"
      ],
      "metadata": {
        "id": "YDA4y0ARESIl"
      },
      "execution_count": null,
      "outputs": []
    },
    {
      "cell_type": "code",
      "source": [
        "emotions={'01':'neutral','02':'calm','03':'happy','04':'sad','05':'angry',\n",
        "'06':'fearful','07':'disgust','08':'surprised'}\n",
        "print(\"Emotions in the data set are : \" , emotions)"
      ],
      "metadata": {
        "colab": {
          "base_uri": "https://localhost:8080/"
        },
        "id": "CIoW0lWKOMxB",
        "outputId": "c7bb495b-e1fc-484c-bd1e-01dad0544503"
      },
      "execution_count": null,
      "outputs": [
        {
          "output_type": "stream",
          "name": "stdout",
          "text": [
            "Emotions in the data set are :  {'01': 'neutral', '02': 'calm', '03': 'happy', '04': 'sad', '05': 'angry', '06': 'fearful', '07': 'disgust', '08': 'surprised'}\n"
          ]
        }
      ]
    },
    {
      "cell_type": "code",
      "source": [
        "observed_emotions=['angry', 'happy', 'neutral', 'sad']\n",
        "print(\"Emotions being observed are : \" , observed_emotions)"
      ],
      "metadata": {
        "colab": {
          "base_uri": "https://localhost:8080/"
        },
        "id": "43xOT-T2OUjy",
        "outputId": "6e9c5aac-02b6-412f-a82b-47b66f829d0d"
      },
      "execution_count": null,
      "outputs": [
        {
          "output_type": "stream",
          "name": "stdout",
          "text": [
            "Emotions being observed are :  ['angry', 'happy', 'neutral', 'sad']\n"
          ]
        }
      ]
    },
    {
      "cell_type": "code",
      "source": [
        "def load_data(test_size=0.25):\n",
        "  x,y=[],[]\n",
        "  for file in glob.glob(\"/content/drive/MyDrive/DATASET/Dataset/RAVDESS_Dataset/Actor_*/*.wav\"):\n",
        "    file_name=os.path.basename(file)\n",
        "    emotion=emotions[file_name.split(\"-\")[2]]\n",
        "    if emotion not in observed_emotions:\n",
        "      continue\n",
        "    try:\n",
        "      feature=extract_feature(file, mfcc=True, chroma=True, mel=True)\n",
        "    except:\n",
        "      continue\n",
        "    x.append(feature)\n",
        "    y.append(emotion)\n",
        "  return train_test_split(np.array(x), y, test_size=test_size, random_state=9)"
      ],
      "metadata": {
        "id": "myAyEpGPOZz3"
      },
      "execution_count": null,
      "outputs": []
    },
    {
      "cell_type": "code",
      "source": [
        "x_train,x_test,y_train,y_test=load_data(test_size=0.25)\n",
        "print((x_train.shape[0], x_test.shape[0]))"
      ],
      "metadata": {
        "id": "TCXpmb5Lfozp",
        "outputId": "df6fc1c9-1bc5-4a71-e6ab-4c3a6c525042",
        "colab": {
          "base_uri": "https://localhost:8080/"
        }
      },
      "execution_count": null,
      "outputs": [
        {
          "output_type": "stream",
          "name": "stdout",
          "text": [
            "(504, 168)\n"
          ]
        }
      ]
    },
    {
      "cell_type": "code",
      "source": [
        "print(f'Features extracted: {x_train.shape[1]}')"
      ],
      "metadata": {
        "colab": {
          "base_uri": "https://localhost:8080/"
        },
        "id": "JPsL60x3_khp",
        "outputId": "77e92c1e-e5f7-437c-840e-e2d03007d660"
      },
      "execution_count": null,
      "outputs": [
        {
          "output_type": "stream",
          "name": "stdout",
          "text": [
            "Features extracted: 180\n"
          ]
        }
      ]
    },
    {
      "cell_type": "code",
      "source": [
        ""
      ],
      "metadata": {
        "id": "Z0ifAOaQAUF7"
      },
      "execution_count": null,
      "outputs": []
    }
  ]
}